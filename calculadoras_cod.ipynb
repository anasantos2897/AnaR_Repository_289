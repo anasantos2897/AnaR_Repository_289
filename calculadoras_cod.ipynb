{
  "nbformat": 4,
  "nbformat_minor": 0,
  "metadata": {
    "colab": {
      "provenance": []
    },
    "kernelspec": {
      "name": "python3",
      "display_name": "Python 3"
    },
    "language_info": {
      "name": "python"
    }
  },
  "cells": [
    {
      "cell_type": "markdown",
      "source": [
        "#Conta de Energia"
      ],
      "metadata": {
        "id": "PVGn1hLkrwwm"
      }
    },
    {
      "cell_type": "markdown",
      "source": [
        "Quantidade de lâmpadas, consumo médio em kw/h, quantidade de horas por dia e dias por mês retornando o valor da conta (considerando R$ 0,57)."
      ],
      "metadata": {
        "id": "F7AKh7ljuE5U"
      }
    },
    {
      "cell_type": "code",
      "source": [
        "\n",
        "qtde_lampadas = int(input(\"Digite a quantidade de lampadas usadas: \"))\n",
        "consumo_medio = int(input(\"Digite o consumo médio: \"))\n",
        "tempo_medio = int(input(\"Digite o tempo médio do equipamento ligado: \"))\n",
        "dias_de_consumo = int(input(\"Digite a qtde. de dias que o equip. passou ligado: \"))\n",
        "preco_kwh = float(input(\"Digite o custo por kw/h: \"))\n",
        "\n",
        "gasto_mensal = round((qtde_lampadas * consumo_medio * tempo_medio * dias_de_consumo *preco_kwh), 2)\n",
        "\n",
        "print(\"O gasto mensal é de R$\"+ str(gasto_mensal))\n",
        "\n",
        "print(\"O gasto mensal é de R$\", gasto_mensal)"
      ],
      "metadata": {
        "id": "DsTRuMqHuDKr",
        "colab": {
          "base_uri": "https://localhost:8080/"
        },
        "outputId": "2bd1aeb7-7f5d-42ad-85c3-2774367aa23f"
      },
      "execution_count": null,
      "outputs": [
        {
          "output_type": "stream",
          "name": "stdout",
          "text": [
            "Digite a quantidade de lampadas usadas: 12\n",
            "Digite o consumo médio: 2\n",
            "Digite o tempo médio do equipamento ligado: 4\n",
            "Digite a qtde. de dias que o equip. passou ligado: 20\n",
            "Digite o custo por kw/h: 0.57\n",
            "O gasto mensal é de R$1094.4\n"
          ]
        }
      ]
    },
    {
      "cell_type": "markdown",
      "source": [
        "#Calculadora:"
      ],
      "metadata": {
        "id": "RQLGUq6_sqh4"
      }
    },
    {
      "cell_type": "markdown",
      "source": [
        "*Calculadora de IMC*\n"
      ],
      "metadata": {
        "id": "JcxZWjKhsY8k"
      }
    },
    {
      "cell_type": "code",
      "source": [
        "peso = float(input(\"Digite seu peso (em kg): \"))\n",
        "\n",
        "altura = float(input(\"Digite a sua altura e(em metros): \"))\n",
        "\n",
        "imc_bruto = round((peso / (altura * altura)), 2)\n",
        "\n",
        "imc_aj = round((peso / (altura ** 2)), 2)\n",
        "\n",
        "print(\"Seu IMC é: \" + str(imc_aj,))"
      ],
      "metadata": {
        "id": "uY2kd1GHGSel",
        "colab": {
          "base_uri": "https://localhost:8080/"
        },
        "outputId": "22a4989e-190e-4f32-949b-f3d12b35a1a5"
      },
      "execution_count": null,
      "outputs": [
        {
          "output_type": "stream",
          "name": "stdout",
          "text": [
            "Digite seu peso (em kg): 90\n",
            "Digite a sua altura e(em metros): 1.70\n",
            "Seu IMC é: 31.14\n"
          ]
        }
      ]
    },
    {
      "cell_type": "markdown",
      "source": [
        "*Calculadora de Temperatura*\n"
      ],
      "metadata": {
        "id": "hfWZoOG0QF6p"
      }
    },
    {
      "cell_type": "code",
      "source": [
        "temperatura = float(input(\"Digite a temperatura: \"))\n",
        "\n",
        "conversao = input(\"Digite 'C' para converter para Celsius para Kelvin ou 'K' para converter para Kelvin para celsius; Digite 'CE' para converter de celsius para Farenhit ou 'F' para converter Farenhit para celsius:\").upper()\n",
        "\n",
        "if conversao == \"C\":\n",
        "  celsius = temperatura - 273.15\n",
        "  print(f\"A temperatura em Celsius é: {celsius}°C\")\n",
        "\n",
        "if conversao == \"K\":\n",
        "  kelvin = temperatura + 273.15\n",
        "  print(f\"A temperatura em Kelvin é: {kelvin}°K\")\n",
        "\n",
        "if conversao == \"CE\":\n",
        "  fahrenheit = ((temperatura * 1.8) + 32, 2)\n",
        "  print(f\"A temperatura em Fahrenheit é: { fahrenheit}°F\")\n",
        "\n",
        "if conversao == \"F\":\n",
        "  celsiusce = ((temperatura-32)/1.8, 2)\n",
        "  print(f\"A temperatura em Celsius é: {celsiusce}°C\")\n"
      ],
      "metadata": {
        "id": "_0QgpOUuQFUR"
      },
      "execution_count": null,
      "outputs": []
    },
    {
      "cell_type": "markdown",
      "source": [
        "calculadora que converte cm em metros e vice versa de acordo com o input que o usuário insere (cm / m). Se o valor inserido não for nenhum dos dois, será avisado ao usuário que o tipo inserido está incorreto."
      ],
      "metadata": {
        "id": "keSx6EfBD0Xh"
      }
    },
    {
      "cell_type": "markdown",
      "source": [
        "*Calculadora de medidas*"
      ],
      "metadata": {
        "id": "SAF6LNOssVGk"
      }
    },
    {
      "cell_type": "code",
      "source": [
        "medida = float(input(\"Digite o valor que quer converter: \"))\n",
        "\n",
        "conversao = input(\"Digite 'cm' para centimetros ou 'm' para metros\").lower()\n",
        "\n",
        "if conversao ==\"cm\":\n",
        "  centimetros = medida * 100\n",
        "  print(f\"A medida em centimetros é: {centimetros} cm\")\n",
        "else:\n",
        "  if conversao == \"m\":\n",
        "    metros = medida / 100\n",
        "    print(f\"A medida em metros é: {metros} m\")\n",
        "  else:\n",
        "    print(\"Tipo de convesão inválido!\")"
      ],
      "metadata": {
        "id": "evyCvbQdD1Xg"
      },
      "execution_count": null,
      "outputs": []
    },
    {
      "cell_type": "markdown",
      "source": [
        "*Calculadora de IR*"
      ],
      "metadata": {
        "id": "v416IqogsdXD"
      }
    },
    {
      "cell_type": "markdown",
      "source": [
        "Desafio: Crie uma calculadora onde o usuário insere o valor de renda mensal e o código realiza o cálculo de IR 2024 mensal:\n",
        "\n",
        "até  2259.20 - Isento\n",
        "\n",
        "de  2259.20 ATÉ 2826.65 - 7,5%\n",
        "\n",
        "de 2.826,65 ATÉ 3851.05 - 15%\n",
        "\n",
        "de 3851.05 ATÉ 4664.68 - 22,5%\n",
        "\n",
        "acima de 4.664,68 - 27,5%"
      ],
      "metadata": {
        "id": "lXz3zX2UpjWU"
      }
    },
    {
      "cell_type": "code",
      "source": [
        "renda_mensal = float(input(\"Digite o valor da sua renda mensal: \"))\n",
        "\n",
        "if renda_mensal <= 2259.20:\n",
        "  imposto = 0\n",
        "  print(f\"O valor do importo de renda é: R${imposto}\")\n",
        "elif 2259.21 <= renda_mensal <= 2826.65:\n",
        "  imposto = round(((renda_mensal * 0.075) - 168.44), 2)\n",
        "  print(f\"O valor do imposto de renda é: R${imposto}\")\n",
        "elif 2826.66 <= renda_mensal <= 3851.05:\n",
        "  imposto = round(((renda_mensal * 0.15) - 381.44), 2)\n",
        "  print(f\"O valor do imposto de renda é: R${imposto}\")\n",
        "elif 3851.06 <= renda_mensal <= 4664.68:\n",
        "  imposto = round(((renda_mensal * 0.225) - 662.77), 2)\n",
        "  print(f\"O valor do imposto de renda é: R${imposto}\")\n",
        "else:\n",
        "  imposto = round(((renda_mensal * 0.275) - 896), 2)\n",
        "  print(f\"O valor do imposto de renda é: R${imposto}\")"
      ],
      "metadata": {
        "id": "c2L9zyYZIGRH",
        "colab": {
          "base_uri": "https://localhost:8080/"
        },
        "outputId": "05bcc4a7-9f43-40d2-d10b-eb9151ce4281"
      },
      "execution_count": null,
      "outputs": [
        {
          "output_type": "stream",
          "name": "stdout",
          "text": [
            "Digite o valor da sua renda mensal: 65000\n",
            "O valor do imposto de renda é: R$16979.0\n"
          ]
        }
      ]
    },
    {
      "cell_type": "markdown",
      "source": [
        "*Calculadora Simples*"
      ],
      "metadata": {
        "id": "Ny8F82XQs9LC"
      }
    },
    {
      "cell_type": "code",
      "source": [
        "while True:\n",
        "  print(\"Calculadora Simples\")\n",
        "  print(\"Escolha a operação (+ , - , * , / ) ou digite 'sair' para finalizar:\")\n",
        "\n",
        "  operacao = input(\"operação: \").lower()\n",
        "\n",
        "  if operacao == \"sair\":\n",
        "    print(\"Saindo da calculadora. Até logo!\")\n",
        "    break\n",
        "\n",
        "  primeiro_numero = float(input(\"Digite o primeiro número: \"))\n",
        "  segundo_numero = float(input(\"Digite o segundo número: \"))\n",
        "\n",
        "  if operacao == \"+\":\n",
        "    resultado = primeiro_numero + segundo_numero\n",
        "  elif operacao == \"-\":\n",
        "    resultado = primeiro_numero - segundo_numero\n",
        "  elif operacao == \"*\":\n",
        "    resultado = primeiro_numero * segundo_numero\n",
        "  elif operacao == \"/\":\n",
        "    if segundo_numero != 0:\n",
        "      resultado = primeiro_numero / segundo_numero\n",
        "    else:\n",
        "      resultado = \"Erro: Divisão por zero!\"\n",
        "  else:\n",
        "    resultado = \"Operação inválida. Escolha (+ , - , * , / ) ou digite 'sair' para finalizar\"\n",
        "\n",
        "  print(f\"Resultado: {resultado}\")\n"
      ],
      "metadata": {
        "id": "XCmbtdBIJdvJ"
      },
      "execution_count": null,
      "outputs": []
    },
    {
      "cell_type": "markdown",
      "source": [
        "Mega-Sena - Acerto"
      ],
      "metadata": {
        "id": "XcpLQ-7TIiOL"
      }
    },
    {
      "cell_type": "code",
      "source": [
        "lista_mega = [11, 20, 27, 28, 53, 60]\n",
        "\n",
        "numero_usuario = int(input(\"Digite o número da sua aposta: \"))\n",
        "\n",
        "if numero_usuario in lista_mega:\n",
        "  print(\"Você acertou!\")\n",
        "else:\n",
        "  print(\"Você não acertou\")"
      ],
      "metadata": {
        "id": "6eTSxXUxIjqB",
        "colab": {
          "base_uri": "https://localhost:8080/"
        },
        "outputId": "a9cca30f-9389-4e1a-f661-2954838a8964"
      },
      "execution_count": null,
      "outputs": [
        {
          "output_type": "stream",
          "name": "stdout",
          "text": [
            "Digite o número da sua aposta: 11\n",
            "Você acertou!\n"
          ]
        }
      ]
    },
    {
      "cell_type": "markdown",
      "source": [
        "Função onde o usuário passa a quantidade de lâmpadas, número de dias do mês e o número de horas média por dia e ele retorna o valor da conta."
      ],
      "metadata": {
        "id": "jkkZ9dgLva0a"
      }
    },
    {
      "cell_type": "code",
      "source": [
        "\n",
        "def calcular_gasto_mensal(media_consumo, tempo_medio, dias_de_consumo,\n",
        "                          preco_kwh, qtde_lamp):\n",
        "  gasto_mensal = round((media_consumo * tempo_medio * dias_de_consumo *\n",
        "                        preco_kwh * qtde_lamp), 2)\n",
        "  print(f\"O gasto mensal é de R$ {gasto_mensal}\")"
      ],
      "metadata": {
        "id": "8t68K7lLvkfQ"
      },
      "execution_count": null,
      "outputs": []
    },
    {
      "cell_type": "code",
      "source": [
        "valor_um = calcular_gasto_mensal(6,2,20,0.57,12)"
      ],
      "metadata": {
        "id": "2w4WV5O-FQt4",
        "colab": {
          "base_uri": "https://localhost:8080/"
        },
        "outputId": "3fea6a2b-d1f3-41a4-a6b2-bb8d257b950d"
      },
      "execution_count": null,
      "outputs": [
        {
          "output_type": "stream",
          "name": "stdout",
          "text": [
            "O gasto mensal é de R$ 1641.6\n"
          ]
        }
      ]
    },
    {
      "cell_type": "code",
      "source": [
        "valor_dois = calcular_gasto_mensal(4,2,20,0.57,12)"
      ],
      "metadata": {
        "colab": {
          "base_uri": "https://localhost:8080/"
        },
        "id": "WDJOusGb4XWM",
        "outputId": "cd4cb1ad-b3f7-4d04-8cde-33cdca0430a1"
      },
      "execution_count": null,
      "outputs": [
        {
          "output_type": "stream",
          "name": "stdout",
          "text": [
            "O gasto mensal é de R$ 1094.4\n"
          ]
        }
      ]
    },
    {
      "cell_type": "code",
      "source": [
        "qtde_lamp = int(input(\"Digite a quantidade de lampadas usadas: \"))\n",
        "media_consumo = int(input(\"Digite o consumo médio: \"))\n",
        "tempo_medio = int(input(\"Digite o tempo médio do equipamento ligado: \"))\n",
        "dias_de_consumo = int(input(\"Digite a qtde. de dias que o equip. passou ligado: \"))\n",
        "preco_kwh = float(input(\"Digite o custo por kw/h: \"))\n",
        "\n",
        "valor_tres = calcular_gasto_mensal(media_consumo, tempo_medio, dias_de_consumo,\n",
        "                          preco_kwh, qtde_lamp)"
      ],
      "metadata": {
        "colab": {
          "base_uri": "https://localhost:8080/"
        },
        "id": "i0-vevBg5ZDL",
        "outputId": "58a98bd8-5633-4c3a-c3a8-8de988f0ea7e"
      },
      "execution_count": null,
      "outputs": [
        {
          "output_type": "stream",
          "name": "stdout",
          "text": [
            "Digite a quantidade de lampadas usadas: 12\n",
            "Digite o consumo médio: 4\n",
            "Digite o tempo médio do equipamento ligado: 2\n",
            "Digite a qtde. de dias que o equip. passou ligado: 20\n",
            "Digite o custo por kw/h: 0.57\n",
            "O gasto mensal é de R$ 1094.4\n"
          ]
        }
      ]
    },
    {
      "cell_type": "markdown",
      "source": [
        "Função para calcular a velocidade média conforme o tempo e distância da viagem."
      ],
      "metadata": {
        "id": "MT81dlXeYyYE"
      }
    },
    {
      "cell_type": "code",
      "source": [
        "def calcular_velocidade_media():\n",
        "  distancia = float(input(\"Digite a distância percorrida em km: \"))\n",
        "  tempo = float(input(\"Digite o tempo gasto em horas: \"))\n",
        "\n",
        "  if tempo > 0:\n",
        "    velocidade_media = round((distancia / tempo), 2)\n",
        "    print(f\"A velocidade média é de {velocidade_media} km/h\")\n",
        "  else:\n",
        "    print(\"O tempo deve ser maior que zero para calcular a velocidade média\")\n",
        "\n",
        "\n",
        "calcular_velocidade_media()"
      ],
      "metadata": {
        "id": "C1KPEL8HYx_0",
        "colab": {
          "base_uri": "https://localhost:8080/"
        },
        "outputId": "5adece61-2aa9-487e-a4d1-152df8f8852c"
      },
      "execution_count": null,
      "outputs": [
        {
          "output_type": "stream",
          "name": "stdout",
          "text": [
            "Digite a distância percorrida em km: 5\n",
            "Digite o tempo gasto em horas: 0.75\n",
            "A velocidade média é de 6.67 km/h\n"
          ]
        }
      ]
    },
    {
      "cell_type": "markdown",
      "source": [
        "Função para o jogo do pin, onde o usuário passa o múltiplo e o limite e é retornado em string o resultado do jogo."
      ],
      "metadata": {
        "id": "P1XJRe4CLwgS"
      }
    },
    {
      "cell_type": "code",
      "source": [
        "def jogo_do_pin():\n",
        "  multiplo = int(input(\"Digite o número múltiplo para o Pin: \"))\n",
        "  limite = int(input(\"Digite o limite do jogo: \"))\n",
        "\n",
        "  contador = 1\n",
        "\n",
        "  while contador <= limite:\n",
        "    if contador % multiplo == 0:\n",
        "      print(\"Pin\")\n",
        "    else:\n",
        "      print(contador)\n",
        "    contador += 1\n",
        "\n",
        "jogo_do_pin()"
      ],
      "metadata": {
        "id": "e7pvgByGLw9q",
        "colab": {
          "base_uri": "https://localhost:8080/"
        },
        "outputId": "974fef91-ca49-48e5-9261-757a7919e767"
      },
      "execution_count": null,
      "outputs": [
        {
          "output_type": "stream",
          "name": "stdout",
          "text": [
            "Digite o número múltiplo para o Pin: 10\n",
            "Digite o limite do jogo: 2\n",
            "1\n",
            "2\n"
          ]
        }
      ]
    },
    {
      "cell_type": "code",
      "source": [
        "def caixa_registradora():\n",
        "    # Cria um dicionário para armazenar os produtos comprados com seus detalhes\n",
        "    compras = {}\n",
        "\n",
        "    # Variável para armazenar o valor total da compra\n",
        "    total_compra = 0.0\n",
        "\n",
        "    # Variável para contar o número total de itens comprados\n",
        "    total_itens = 0\n",
        "\n",
        "    # Loop principal para entrada de dados dos produtos\n",
        "    while True:\n",
        "        # Solicita o nome do produto ou Enter para finalizar a compra\n",
        "        produto = input(\"Digite o nome do produto ou pressione Enter para finalizar: \")\n",
        "\n",
        "        # Se o usuário pressionar Enter sem digitar nada, sai do loop\n",
        "        if produto == \"\":\n",
        "            break\n",
        "\n",
        "        # Solicita a quantidade do produto e converte para inteiro\n",
        "        quantidade = int(input(f\"Digite a quantidade de {produto}: \"))\n",
        "\n",
        "        # Solicita o preço unitário do produto e converte para float\n",
        "        preco = float(input(f\"Digite o preço do {produto}: \"))\n",
        "\n",
        "        # Calcula o total gasto com esse produto (quantidade x preço unitário)\n",
        "        total_produto = quantidade * preco\n",
        "\n",
        "        # Soma o valor deste produto ao total da compra\n",
        "        total_compra += total_produto\n",
        "\n",
        "        # Soma a quantidade ao total de itens comprados\n",
        "        total_itens += quantidade\n",
        "\n",
        "        # Verifica se o produto já está no dicionário\n",
        "        if produto in compras:\n",
        "            # Se sim, atualiza a quantidade e o total acumulado do produto\n",
        "            compras[produto][\"quantidade\"] += quantidade\n",
        "            compras[produto][\"total\"] += total_produto\n",
        "        else:\n",
        "            # Se não, adiciona o produto com seus detalhes\n",
        "            compras[produto] = {\n",
        "                \"quantidade\": quantidade,\n",
        "                \"preco_unitario\": preco,\n",
        "                \"total\": total_produto\n",
        "            }\n",
        "\n",
        "    # Exibe um resumo da compra com os detalhes de cada produto\n",
        "    print(\"\\nResumo da compra:\")\n",
        "    for produto, info in compras.items():\n",
        "        print(f\"{produto}: {info['quantidade']} unidades x R${info['preco_unitario']} = R${info['total']}\")\n",
        "\n",
        "    # Exibe o valor total da compra\n",
        "    print(f\"\\nTotal da compra: R${total_compra}\")\n",
        "\n",
        "    # Exibe a quantidade total de itens comprados\n",
        "    print(f\"Quantidade total de itens: {total_itens}\")\n",
        "\n",
        "# Chama a função para iniciar a execução do programa\n",
        "caixa_registradora()\n"
      ],
      "metadata": {
        "id": "QpLMhHhCNZHi",
        "colab": {
          "base_uri": "https://localhost:8080/"
        },
        "outputId": "19ca8d0c-7b91-4904-e73f-f050f471e5f1"
      },
      "execution_count": null,
      "outputs": [
        {
          "output_type": "stream",
          "name": "stdout",
          "text": [
            "Digite o nome do produto ou pressione Enter para finalizar: Coxinha\n",
            "Digite a quantidade de Coxinha: 10\n",
            "Digite o preço do Coxinha: 10\n",
            "Digite o nome do produto ou pressione Enter para finalizar: Coca Cola\n",
            "Digite a quantidade de Coca Cola: 10\n",
            "Digite o preço do Coca Cola: 5\n",
            "Digite o nome do produto ou pressione Enter para finalizar: \n",
            "\n",
            "Resumo da compra:\n",
            "Coxinha: 10 unidades x R$10.0 = R$100.0\n",
            "Coca Cola: 10 unidades x R$5.0 = R$50.0\n",
            "\n",
            "Total da compra: R$150.0\n",
            "Quantidade total de itens: 20\n"
          ]
        }
      ]
    }
  ]
}